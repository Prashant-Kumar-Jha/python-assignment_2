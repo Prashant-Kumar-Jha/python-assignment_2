{
 "cells": [
  {
   "cell_type": "code",
   "execution_count": null,
   "metadata": {},
   "outputs": [],
   "source": [
    "Q1 - 1. What are the Boolean data type's two values? How do you go about writing them?\n",
    "\n",
    "ans -True and False are two values of Boolean data type."
   ]
  },
  {
   "cell_type": "code",
   "execution_count": 2,
   "metadata": {},
   "outputs": [
    {
     "name": "stdout",
     "output_type": "stream",
     "text": [
      "True\n",
      "False\n",
      "False\n"
     ]
    }
   ],
   "source": [
    "bool=10\n",
    "bool =9\n",
    "print(10 > 9)\n",
    "print(10 == 9)\n",
    "print(10 < 9)\n"
   ]
  },
  {
   "cell_type": "code",
   "execution_count": null,
   "metadata": {},
   "outputs": [],
   "source": [
    "Q2 - 2. What are the three different types of Boolean operators?\n",
    "\n",
    "ans - The three basic boolean operators are: AND, OR, and NOT.\n"
   ]
  },
  {
   "cell_type": "code",
   "execution_count": null,
   "metadata": {},
   "outputs": [],
   "source": [
    "Q3 - 3. Make a list of each Boolean operator's truth tables\n",
    "     (i.e. every possible combination of Boolean values for the operator and what it evaluate ).\n",
    "\n",
    "ans    List  of Boolean operators           \n",
    "       ==\tEqual to\n",
    "       !=\tNot equal to\n",
    "       <\tLess than\n",
    "       >\tGreater than\n",
    "       <=\tLess than or equal to\n",
    "       >=\tGreater than or equal to                                                                  \n",
    "       ==\tEqual to\n",
    "       !=\tNot equal to\n",
    "       <\tLess than\n",
    "       >\tGreater than\n",
    "       <=\tLess than or equal to\n",
    "       >=\tGreater than or equal to\n",
    "        \n",
    "True and True is True.\n",
    "True and False is False.\n",
    "False and True is False.\n",
    "False and False is False.\n",
    "True or True is True.\n",
    "True or False is True.\n",
    "False or True is True.\n",
    "False or False is False.\n",
    "not True is False.\n",
    "not False is True.  "
   ]
  },
  {
   "cell_type": "code",
   "execution_count": 4,
   "metadata": {},
   "outputs": [
    {
     "name": "stdout",
     "output_type": "stream",
     "text": [
      "x == y: False\n",
      "x != y: True\n",
      "x < y: True\n",
      "x > y: False\n",
      "x <= y: True\n",
      "x >= y: False\n"
     ]
    }
   ],
   "source": [
    "# every possible combination of Boolean values for the operator and what it evaluate\n",
    "x = 5\n",
    "y = 8\n",
    "\n",
    "print(\"x == y:\", x == y)\n",
    "print(\"x != y:\", x != y)\n",
    "print(\"x < y:\", x < y)\n",
    "print(\"x > y:\", x > y)\n",
    "print(\"x <= y:\", x <= y)\n",
    "print(\"x >= y:\", x >= y)"
   ]
  },
  {
   "cell_type": "code",
   "execution_count": null,
   "metadata": {},
   "outputs": [],
   "source": [
    "Q4 - 4. What are the values of the following expressions?\n",
    "\n",
    "(5 > 4) and (3 == 5)\n",
    "not (5 > 4)\n",
    "(5 > 4) or (3 == 5)\n",
    "not ((5 > 4) or (3 == 5))\n",
    "(True and True) and (True == False)\n",
    "(not False) or (not True)\n",
    "\n",
    "Ans  =  False\n",
    "        False\n",
    "        True\n",
    "        False\n",
    "        False\n",
    "        True"
   ]
  },
  {
   "cell_type": "code",
   "execution_count": null,
   "metadata": {},
   "outputs": [],
   "source": [
    "Q5 -5. What are the six different types of reference operators?\n",
    "\n",
    "ans - ==, !=, <, >, <=, and >=."
   ]
  },
  {
   "cell_type": "code",
   "execution_count": null,
   "metadata": {},
   "outputs": [],
   "source": [
    "Q6 - 6. How do you tell the difference between the equal to and assignment operators?\n",
    "\n",
    "ans - In Python and many other programming languages, a single equal mark is used to assign a value to a variable\n",
    "       whereas two consecutive equal marks is used to check whether 2 expressions give the same value .\n",
    "       = is an assignment operator\n",
    "       == is a Comparison Operators"
   ]
  },
  {
   "cell_type": "code",
   "execution_count": 8,
   "metadata": {},
   "outputs": [
    {
     "name": "stdout",
     "output_type": "stream",
     "text": [
      "5\n",
      "True\n"
     ]
    }
   ],
   "source": [
    "# eg -\n",
    "num = 5\n",
    "print (num)\n",
    "# = is an assignment operator\n",
    "num1=5\n",
    "num2=5\n",
    "print(num1==num2)\n",
    "# == is a comparision operator"
   ]
  },
  {
   "cell_type": "code",
   "execution_count": null,
   "metadata": {},
   "outputs": [],
   "source": [
    "Q7 -7. Describe a condition and when you would use one.\n",
    " \n",
    "ans   A condition is an expression used in a flow control statement that evaluates to a Boolean value."
   ]
  },
  {
   "cell_type": "code",
   "execution_count": null,
   "metadata": {},
   "outputs": [],
   "source": [
    "Q8 -  Recognize the following three blocks in this code:\n",
    "       spam = 0\n",
    "if spam == 10:\n",
    "    print('eggs')\n",
    "    if spam > 5:\n",
    "        print('bacon')\n",
    "    else:\n",
    "        print('ham')\n",
    "    print('spam')\n",
    "    print('spam')\n",
    "Ans -The three blocks are everything inside the if statement and the lines print('bacon') and print('ham')\n",
    "      print('eggs')\n",
    "         if spam > 5:\n",
    "        print('bacon')\n",
    "            else:\n",
    "            print('ham')\n",
    "             print('spam')"
   ]
  },
  {
   "cell_type": "code",
   "execution_count": null,
   "metadata": {},
   "outputs": [],
   "source": [
    "Q9 - 9. Create a programme that prints. If 1 is stored in spam, prints Hello;\n",
    "        if 2 is stored in spam, prints Howdy; and if 3 is stored in spam, prints Salutations! \n",
    "        if there's something else in spam.\n"
   ]
  },
  {
   "cell_type": "code",
   "execution_count": 32,
   "metadata": {},
   "outputs": [
    {
     "name": "stdout",
     "output_type": "stream",
     "text": [
      "enter number 2\n",
      "howdy\n"
     ]
    }
   ],
   "source": [
    "# ans \n",
    "spam =int(input(\"enter number \"))\n",
    "if spam ==1:\n",
    "    print(\"hello\")\n",
    "elif spam == 2:\n",
    "        print(\"howdy\")\n",
    "elif spam==3:\n",
    "        print(\"salutations\")\n",
    "else:\n",
    "        print(\"something else in spam\")\n",
    "        "
   ]
  },
  {
   "cell_type": "code",
   "execution_count": null,
   "metadata": {},
   "outputs": [],
   "source": [
    "Q10 - 10.If your programme is stuck in an endless loop, what keys can you press?\n",
    "\n",
    "ans   CTRL+C"
   ]
  },
  {
   "cell_type": "code",
   "execution_count": null,
   "metadata": {},
   "outputs": [],
   "source": [
    "Q11 - 11. How can you tell the difference between break and continue?\n",
    "\n",
    "ans - break - When a break statement is encountered inside a loop, the loop is immediately terminated \n",
    "      and the program control resumes at the next statement following the loop\n",
    "    \n",
    "      continue - The continue statement is used to skip the rest of the code inside a loop for the current iteration only.\n",
    "                 Loop does not terminate but continues on with the next iteration."
   ]
  },
  {
   "cell_type": "code",
   "execution_count": 4,
   "metadata": {},
   "outputs": [
    {
     "name": "stdout",
     "output_type": "stream",
     "text": [
      "p\n",
      "r\n",
      "a\n",
      "s\n"
     ]
    }
   ],
   "source": [
    "#   ans  use of break and continue\n",
    "\n",
    "str = \"prashant\"  \n",
    "for i in str:  \n",
    "    if i == 'h':  \n",
    "        break  \n",
    "    print(i);  "
   ]
  },
  {
   "cell_type": "code",
   "execution_count": 6,
   "metadata": {},
   "outputs": [
    {
     "name": "stdout",
     "output_type": "stream",
     "text": [
      "p\n",
      "r\n",
      "a\n",
      "s\n",
      "a\n",
      "n\n",
      "t\n"
     ]
    }
   ],
   "source": [
    "# continue\n",
    "str = \"prashant\"  \n",
    "for i in str:  \n",
    "    if i == 'h':  \n",
    "        continue  \n",
    "    print(i);  "
   ]
  },
  {
   "cell_type": "code",
   "execution_count": null,
   "metadata": {},
   "outputs": [],
   "source": [
    "Q12 - 12. In a for loop, what is the difference between range(10), range(0, 10), and range(0, 10, 1)?\n",
    "\n",
    "ans - They all do the same thing. The range(10) call ranges from 0 up to (but not including)\n",
    "      10, range(0, 10) explicitly tells the loop to start at 0, and range(0, 10, 1)\n",
    "       explicitly tells the loop to increase the variable by 1 on each iteration.\n",
    "        \n",
    "        "
   ]
  },
  {
   "cell_type": "code",
   "execution_count": 3,
   "metadata": {},
   "outputs": [
    {
     "name": "stdout",
     "output_type": "stream",
     "text": [
      "0\n",
      "1\n",
      "2\n",
      "3\n",
      "4\n",
      "5\n",
      "6\n",
      "7\n",
      "8\n",
      "9\n"
     ]
    }
   ],
   "source": [
    "# eg range (10)\n",
    "range(10)\n",
    "for i in range(10):\n",
    "    print(i)\n",
    "\n",
    "    "
   ]
  },
  {
   "cell_type": "code",
   "execution_count": 4,
   "metadata": {},
   "outputs": [
    {
     "name": "stdout",
     "output_type": "stream",
     "text": [
      "0\n",
      "1\n",
      "2\n",
      "3\n",
      "4\n",
      "5\n",
      "6\n",
      "7\n",
      "8\n",
      "9\n"
     ]
    }
   ],
   "source": [
    "# eg range (0,10)\n",
    "range(0,10)\n",
    "for i in range(0,10):\n",
    "    print(i)"
   ]
  },
  {
   "cell_type": "code",
   "execution_count": 5,
   "metadata": {},
   "outputs": [
    {
     "name": "stdout",
     "output_type": "stream",
     "text": [
      "0\n",
      "1\n",
      "2\n",
      "3\n",
      "4\n",
      "5\n",
      "6\n",
      "7\n",
      "8\n",
      "9\n"
     ]
    }
   ],
   "source": [
    "# # eg range (0,10,1)\n",
    "range(0,10)\n",
    "for i in range(0,10,1):\n",
    "    print(i)"
   ]
  },
  {
   "cell_type": "code",
   "execution_count": null,
   "metadata": {},
   "outputs": [],
   "source": [
    "Q13 -13. Using a for loop, write a short programme that prints the numbers 1 to 10 Then, using a while loop,\n",
    "         create an identical programme that prints the numbers 1 to 10."
   ]
  },
  {
   "cell_type": "code",
   "execution_count": 12,
   "metadata": {},
   "outputs": [
    {
     "name": "stdout",
     "output_type": "stream",
     "text": [
      "1\n",
      "2\n",
      "3\n",
      "4\n",
      "5\n",
      "6\n",
      "7\n",
      "8\n",
      "9\n",
      "10\n"
     ]
    }
   ],
   "source": [
    "# Ans - for loop\n",
    "num = 11\n",
    "for i in range(1,num):\n",
    "    print(i)\n"
   ]
  },
  {
   "cell_type": "code",
   "execution_count": 14,
   "metadata": {},
   "outputs": [
    {
     "name": "stdout",
     "output_type": "stream",
     "text": [
      "1\n",
      "2\n",
      "3\n",
      "4\n",
      "5\n",
      "6\n",
      "7\n",
      "8\n",
      "9\n",
      "10\n"
     ]
    }
   ],
   "source": [
    "# ans while loop\n",
    "i=1\n",
    "while i<=10:\n",
    "    print(i)\n",
    "    i=i+1"
   ]
  },
  {
   "cell_type": "code",
   "execution_count": null,
   "metadata": {},
   "outputs": [],
   "source": [
    "Q14 - 14. If you had a bacon() function within a spam module, what would you call it after importing spam?\n"
   ]
  },
  {
   "cell_type": "code",
   "execution_count": null,
   "metadata": {},
   "outputs": [],
   "source": [
    "# Ans \n",
    "This function can be called with spam.bacon().\n",
    "    "
   ]
  }
 ],
 "metadata": {
  "kernelspec": {
   "display_name": "Python 3",
   "language": "python",
   "name": "python3"
  },
  "language_info": {
   "codemirror_mode": {
    "name": "ipython",
    "version": 3
   },
   "file_extension": ".py",
   "mimetype": "text/x-python",
   "name": "python",
   "nbconvert_exporter": "python",
   "pygments_lexer": "ipython3",
   "version": "3.8.5"
  }
 },
 "nbformat": 4,
 "nbformat_minor": 4
}
